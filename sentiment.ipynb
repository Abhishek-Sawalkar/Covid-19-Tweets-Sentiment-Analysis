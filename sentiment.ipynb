{
 "cells": [
  {
   "cell_type": "code",
   "execution_count": 69,
   "metadata": {},
   "outputs": [
    {
     "name": "stderr",
     "output_type": "stream",
     "text": [
      "[nltk_data] Downloading package punkt to\n",
      "[nltk_data]     C:\\Users\\USER\\AppData\\Roaming\\nltk_data...\n",
      "[nltk_data]   Package punkt is already up-to-date!\n"
     ]
    },
    {
     "name": "stdout",
     "output_type": "stream",
     "text": [
      "temp : [], len(temp) : 0\n",
      "return: neutral\n",
      "temp : ['anger'], len(temp) : 1\n",
      "return: anger\n",
      "temp : [], len(temp) : 0\n",
      "return: neutral\n",
      "temp : [], len(temp) : 0\n",
      "return: neutral\n",
      "temp : [], len(temp) : 0\n",
      "return: neutral\n",
      "temp : ['surprise'], len(temp) : 1\n",
      "return: surprise\n",
      "temp : [], len(temp) : 0\n",
      "return: neutral\n",
      "temp : [], len(temp) : 0\n",
      "return: neutral\n",
      "temp : ['sadness'], len(temp) : 1\n",
      "return: sadness\n",
      "temp : [], len(temp) : 0\n",
      "return: neutral\n",
      "['neutral' 'anger' 'surprise' 'sadness']\n"
     ]
    }
   ],
   "source": [
    "import pandas as pd\n",
    "\n",
    "from nltk.corpus import stopwords\n",
    "from nltk import word_tokenize\n",
    "import nltk\n",
    "nltk.download('punkt')\n",
    "\n",
    "\n",
    "def emotion(tweet):\n",
    "    \n",
    "    def most_frequent(List): \n",
    "        return max(set(List), key = List.count) \n",
    "    \n",
    "    \n",
    "    word_tokens = word_tokenize(tweet)\n",
    "    temp = []\n",
    "    cleanedList = []\n",
    "    i = 0\n",
    "    for word in word_tokens:\n",
    "        em = emot['emotion'].where(word == emot['word'])\n",
    "        cleanedList = [x for x in em if str(x) != 'nan']\n",
    "\n",
    "        if i == 0:\n",
    "            if not cleanedList:\n",
    "                continue\n",
    "            else:\n",
    "                temp = cleanedList\n",
    "        else:\n",
    "            if not cleanedList:\n",
    "                continue\n",
    "            else:\n",
    "                temp.append(cleanedList[0])\n",
    "        i += 1\n",
    "\n",
    "    print(f'temp : {temp}, len(temp) : {len(temp)}')\n",
    "    if len(temp) == 0:\n",
    "        print(f'return: neutral')\n",
    "        return 'neutral'\n",
    "    \n",
    "    print(f'return: {most_frequent(temp)}')\n",
    "    \n",
    "    return most_frequent(temp)\n",
    "\n",
    "\n",
    "\n",
    "df = pd.read_csv(\"NewMARCH.csv\")\n",
    "df = pd.DataFrame(df)\n",
    "\n",
    "emot = pd.read_csv(\"emotions.csv\")\n",
    "emot = pd.DataFrame(emot)\n",
    "emot.columns=['word', 'emotion']\n",
    "\n",
    "df['sentiment'] = df['Text'].apply(emotion)\n",
    "print(df.sentiment.unique())\n",
    "\n",
    "df.to_csv(\"march_sentiment.csv\")"
   ]
  },
  {
   "cell_type": "code",
   "execution_count": null,
   "metadata": {},
   "outputs": [],
   "source": []
  }
 ],
 "metadata": {
  "kernelspec": {
   "display_name": "Python 3",
   "language": "python",
   "name": "python3"
  },
  "language_info": {
   "codemirror_mode": {
    "name": "ipython",
    "version": 3
   },
   "file_extension": ".py",
   "mimetype": "text/x-python",
   "name": "python",
   "nbconvert_exporter": "python",
   "pygments_lexer": "ipython3",
   "version": "3.7.6"
  }
 },
 "nbformat": 4,
 "nbformat_minor": 4
}
