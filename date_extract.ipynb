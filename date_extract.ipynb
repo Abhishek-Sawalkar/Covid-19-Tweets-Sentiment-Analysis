{
 "cells": [
  {
   "cell_type": "code",
   "execution_count": 109,
   "metadata": {},
   "outputs": [],
   "source": [
    "import pandas as pd\n",
    "\n",
    "df = pd.read_csv(\"NewMarch.csv\")"
   ]
  },
  {
   "cell_type": "code",
   "execution_count": 110,
   "metadata": {},
   "outputs": [
    {
     "data": {
      "text/html": [
       "<div>\n",
       "<style scoped>\n",
       "    .dataframe tbody tr th:only-of-type {\n",
       "        vertical-align: middle;\n",
       "    }\n",
       "\n",
       "    .dataframe tbody tr th {\n",
       "        vertical-align: top;\n",
       "    }\n",
       "\n",
       "    .dataframe thead th {\n",
       "        text-align: right;\n",
       "    }\n",
       "</style>\n",
       "<table border=\"1\" class=\"dataframe\">\n",
       "  <thead>\n",
       "    <tr style=\"text-align: right;\">\n",
       "      <th></th>\n",
       "      <th>Place</th>\n",
       "      <th>Query</th>\n",
       "      <th>Datetime</th>\n",
       "      <th>Text</th>\n",
       "      <th>retweets</th>\n",
       "      <th>favourites</th>\n",
       "      <th>hashtags</th>\n",
       "      <th>Subjectivity</th>\n",
       "      <th>Polarity</th>\n",
       "    </tr>\n",
       "  </thead>\n",
       "  <tbody>\n",
       "    <tr>\n",
       "      <th>0</th>\n",
       "      <td>Jharkhand</td>\n",
       "      <td>coronavirus</td>\n",
       "      <td>2020-03-29 16:23:31+00:00</td>\n",
       "      <td>In war global epidemic coronavirus I donated ₹...</td>\n",
       "      <td>1</td>\n",
       "      <td>9</td>\n",
       "      <td>#coronavirus #PMCARES</td>\n",
       "      <td>0.000000</td>\n",
       "      <td>0.000000</td>\n",
       "    </tr>\n",
       "    <tr>\n",
       "      <th>1</th>\n",
       "      <td>Jharkhand</td>\n",
       "      <td>coronavirus</td>\n",
       "      <td>2020-03-18 05:40:36+00:00</td>\n",
       "      <td>Dear liberals Please pray Corona virus cases g...</td>\n",
       "      <td>0</td>\n",
       "      <td>0</td>\n",
       "      <td>NaN</td>\n",
       "      <td>0.400000</td>\n",
       "      <td>-0.150000</td>\n",
       "    </tr>\n",
       "    <tr>\n",
       "      <th>2</th>\n",
       "      <td>Jharkhand</td>\n",
       "      <td>coronavirus</td>\n",
       "      <td>2020-03-19 08:09:44+00:00</td>\n",
       "      <td>Sir treatment available corona virus Jharkhand</td>\n",
       "      <td>0</td>\n",
       "      <td>0</td>\n",
       "      <td>NaN</td>\n",
       "      <td>0.400000</td>\n",
       "      <td>0.400000</td>\n",
       "    </tr>\n",
       "    <tr>\n",
       "      <th>3</th>\n",
       "      <td>Jharkhand</td>\n",
       "      <td>covid19</td>\n",
       "      <td>2020-03-11 18:05:59+00:00</td>\n",
       "      <td>Replying WHO `` Coronavirus confirmed pandemic...</td>\n",
       "      <td>0</td>\n",
       "      <td>2</td>\n",
       "      <td>#WHO #COVID19</td>\n",
       "      <td>0.597222</td>\n",
       "      <td>0.119444</td>\n",
       "    </tr>\n",
       "    <tr>\n",
       "      <th>4</th>\n",
       "      <td>Jharkhand</td>\n",
       "      <td>coronavirus</td>\n",
       "      <td>2020-03-26 08:26:04+00:00</td>\n",
       "      <td>jharkhand HemantSorenJMM WeAreRanchi WeAreDhan...</td>\n",
       "      <td>0</td>\n",
       "      <td>0</td>\n",
       "      <td>#jharkhand</td>\n",
       "      <td>0.225000</td>\n",
       "      <td>-0.058333</td>\n",
       "    </tr>\n",
       "  </tbody>\n",
       "</table>\n",
       "</div>"
      ],
      "text/plain": [
       "       Place        Query                   Datetime  \\\n",
       "0  Jharkhand  coronavirus  2020-03-29 16:23:31+00:00   \n",
       "1  Jharkhand  coronavirus  2020-03-18 05:40:36+00:00   \n",
       "2  Jharkhand  coronavirus  2020-03-19 08:09:44+00:00   \n",
       "3  Jharkhand      covid19  2020-03-11 18:05:59+00:00   \n",
       "4  Jharkhand  coronavirus  2020-03-26 08:26:04+00:00   \n",
       "\n",
       "                                                Text  retweets  favourites  \\\n",
       "0  In war global epidemic coronavirus I donated ₹...         1           9   \n",
       "1  Dear liberals Please pray Corona virus cases g...         0           0   \n",
       "2     Sir treatment available corona virus Jharkhand         0           0   \n",
       "3  Replying WHO `` Coronavirus confirmed pandemic...         0           2   \n",
       "4  jharkhand HemantSorenJMM WeAreRanchi WeAreDhan...         0           0   \n",
       "\n",
       "                hashtags  Subjectivity  Polarity  \n",
       "0  #coronavirus #PMCARES      0.000000  0.000000  \n",
       "1                    NaN      0.400000 -0.150000  \n",
       "2                    NaN      0.400000  0.400000  \n",
       "3          #WHO #COVID19      0.597222  0.119444  \n",
       "4             #jharkhand      0.225000 -0.058333  "
      ]
     },
     "execution_count": 110,
     "metadata": {},
     "output_type": "execute_result"
    }
   ],
   "source": [
    "df.head()"
   ]
  },
  {
   "cell_type": "code",
   "execution_count": 111,
   "metadata": {},
   "outputs": [
    {
     "data": {
      "text/plain": [
       "0    2020-03-29\n",
       "1    2020-03-18\n",
       "2    2020-03-19\n",
       "3    2020-03-11\n",
       "4    2020-03-26\n",
       "Name: Datetime, dtype: object"
      ]
     },
     "execution_count": 111,
     "metadata": {},
     "output_type": "execute_result"
    }
   ],
   "source": [
    "import re\n",
    "from datetime import datetime\n",
    "\n",
    "def date_extract(text):\n",
    "    \n",
    "    match = re.search(r'\\d{4}-\\d{2}-\\d{2}', text)\n",
    "    date = datetime.strptime(match.group(), '%Y-%m-%d').date()\n",
    "    return date\n",
    "\n",
    "\n",
    "df[\"Datetime\"] = df[\"Datetime\"].apply(date_extract)\n",
    "df[\"Datetime\"].head()"
   ]
  },
  {
   "cell_type": "code",
   "execution_count": 112,
   "metadata": {},
   "outputs": [
    {
     "data": {
      "text/html": [
       "<div>\n",
       "<style scoped>\n",
       "    .dataframe tbody tr th:only-of-type {\n",
       "        vertical-align: middle;\n",
       "    }\n",
       "\n",
       "    .dataframe tbody tr th {\n",
       "        vertical-align: top;\n",
       "    }\n",
       "\n",
       "    .dataframe thead th {\n",
       "        text-align: right;\n",
       "    }\n",
       "</style>\n",
       "<table border=\"1\" class=\"dataframe\">\n",
       "  <thead>\n",
       "    <tr style=\"text-align: right;\">\n",
       "      <th></th>\n",
       "      <th>Place</th>\n",
       "      <th>Query</th>\n",
       "      <th>Datetime</th>\n",
       "      <th>Text</th>\n",
       "      <th>retweets</th>\n",
       "      <th>favourites</th>\n",
       "      <th>hashtags</th>\n",
       "      <th>Subjectivity</th>\n",
       "      <th>Polarity</th>\n",
       "    </tr>\n",
       "  </thead>\n",
       "  <tbody>\n",
       "    <tr>\n",
       "      <th>0</th>\n",
       "      <td>Jharkhand</td>\n",
       "      <td>coronavirus</td>\n",
       "      <td>2020-03-29</td>\n",
       "      <td>In war global epidemic coronavirus I donated ₹...</td>\n",
       "      <td>1</td>\n",
       "      <td>9</td>\n",
       "      <td>#coronavirus #PMCARES</td>\n",
       "      <td>0.000000</td>\n",
       "      <td>0.000000</td>\n",
       "    </tr>\n",
       "    <tr>\n",
       "      <th>1</th>\n",
       "      <td>Jharkhand</td>\n",
       "      <td>coronavirus</td>\n",
       "      <td>2020-03-18</td>\n",
       "      <td>Dear liberals Please pray Corona virus cases g...</td>\n",
       "      <td>0</td>\n",
       "      <td>0</td>\n",
       "      <td>NaN</td>\n",
       "      <td>0.400000</td>\n",
       "      <td>-0.150000</td>\n",
       "    </tr>\n",
       "    <tr>\n",
       "      <th>2</th>\n",
       "      <td>Jharkhand</td>\n",
       "      <td>coronavirus</td>\n",
       "      <td>2020-03-19</td>\n",
       "      <td>Sir treatment available corona virus Jharkhand</td>\n",
       "      <td>0</td>\n",
       "      <td>0</td>\n",
       "      <td>NaN</td>\n",
       "      <td>0.400000</td>\n",
       "      <td>0.400000</td>\n",
       "    </tr>\n",
       "    <tr>\n",
       "      <th>3</th>\n",
       "      <td>Jharkhand</td>\n",
       "      <td>covid19</td>\n",
       "      <td>2020-03-11</td>\n",
       "      <td>Replying WHO `` Coronavirus confirmed pandemic...</td>\n",
       "      <td>0</td>\n",
       "      <td>2</td>\n",
       "      <td>#WHO #COVID19</td>\n",
       "      <td>0.597222</td>\n",
       "      <td>0.119444</td>\n",
       "    </tr>\n",
       "    <tr>\n",
       "      <th>4</th>\n",
       "      <td>Jharkhand</td>\n",
       "      <td>coronavirus</td>\n",
       "      <td>2020-03-26</td>\n",
       "      <td>jharkhand HemantSorenJMM WeAreRanchi WeAreDhan...</td>\n",
       "      <td>0</td>\n",
       "      <td>0</td>\n",
       "      <td>#jharkhand</td>\n",
       "      <td>0.225000</td>\n",
       "      <td>-0.058333</td>\n",
       "    </tr>\n",
       "  </tbody>\n",
       "</table>\n",
       "</div>"
      ],
      "text/plain": [
       "       Place        Query    Datetime  \\\n",
       "0  Jharkhand  coronavirus  2020-03-29   \n",
       "1  Jharkhand  coronavirus  2020-03-18   \n",
       "2  Jharkhand  coronavirus  2020-03-19   \n",
       "3  Jharkhand      covid19  2020-03-11   \n",
       "4  Jharkhand  coronavirus  2020-03-26   \n",
       "\n",
       "                                                Text  retweets  favourites  \\\n",
       "0  In war global epidemic coronavirus I donated ₹...         1           9   \n",
       "1  Dear liberals Please pray Corona virus cases g...         0           0   \n",
       "2     Sir treatment available corona virus Jharkhand         0           0   \n",
       "3  Replying WHO `` Coronavirus confirmed pandemic...         0           2   \n",
       "4  jharkhand HemantSorenJMM WeAreRanchi WeAreDhan...         0           0   \n",
       "\n",
       "                hashtags  Subjectivity  Polarity  \n",
       "0  #coronavirus #PMCARES      0.000000  0.000000  \n",
       "1                    NaN      0.400000 -0.150000  \n",
       "2                    NaN      0.400000  0.400000  \n",
       "3          #WHO #COVID19      0.597222  0.119444  \n",
       "4             #jharkhand      0.225000 -0.058333  "
      ]
     },
     "execution_count": 112,
     "metadata": {},
     "output_type": "execute_result"
    }
   ],
   "source": [
    "df.head()"
   ]
  },
  {
   "cell_type": "code",
   "execution_count": 113,
   "metadata": {},
   "outputs": [],
   "source": [
    "dff = pd.DataFrame()"
   ]
  },
  {
   "cell_type": "code",
   "execution_count": 114,
   "metadata": {},
   "outputs": [],
   "source": [
    "df = df.sort_values(by='Datetime')"
   ]
  },
  {
   "cell_type": "code",
   "execution_count": 115,
   "metadata": {},
   "outputs": [
    {
     "data": {
      "text/plain": [
       "25758    2020-03-01\n",
       "25036    2020-03-01\n",
       "110      2020-03-01\n",
       "26144    2020-03-01\n",
       "29236    2020-03-01\n",
       "            ...    \n",
       "13414    2020-03-30\n",
       "13413    2020-03-30\n",
       "13412    2020-03-30\n",
       "13410    2020-03-30\n",
       "12796    2020-03-30\n",
       "Name: Datetime, Length: 42318, dtype: object"
      ]
     },
     "execution_count": 115,
     "metadata": {},
     "output_type": "execute_result"
    }
   ],
   "source": [
    "df.Datetime.astype(str)"
   ]
  },
  {
   "cell_type": "code",
   "execution_count": 116,
   "metadata": {},
   "outputs": [
    {
     "data": {
      "text/plain": [
       "datetime.date(2020, 3, 1)"
      ]
     },
     "execution_count": 116,
     "metadata": {},
     "output_type": "execute_result"
    }
   ],
   "source": [
    "t = df.Datetime.unique()\n",
    "t[0]"
   ]
  },
  {
   "cell_type": "code",
   "execution_count": 117,
   "metadata": {},
   "outputs": [
    {
     "name": "stdout",
     "output_type": "stream",
     "text": [
      "\n",
      "date:2020-03-01\n",
      "0.11148607992592592 0.4002500868271605\n",
      "\n",
      "date:2020-03-02\n",
      "0.07620830516763005 0.37406023272254335\n",
      "\n",
      "date:2020-03-03\n",
      "0.06666069106727829 0.35669484121712536\n",
      "\n",
      "date:2020-03-04\n",
      "0.08935461355970149 0.3508248177182836\n",
      "\n",
      "date:2020-03-05\n",
      "0.09408060097804878 0.3683880654512195\n",
      "\n",
      "date:2020-03-06\n",
      "0.05153726151602564 0.31217196493589744\n",
      "\n",
      "date:2020-03-07\n",
      "0.11140757598969073 0.3904199659690722\n",
      "\n",
      "date:2020-03-08\n",
      "0.06422058245454546 0.35896004690454547\n",
      "\n",
      "date:2020-03-09\n",
      "0.09446232769407895 0.38351172811842105\n",
      "\n",
      "date:2020-03-10\n",
      "0.09155483025441696 0.35077536198586573\n",
      "\n",
      "date:2020-03-11\n",
      "0.04874880055613577 0.33917555855091386\n",
      "\n",
      "date:2020-03-12\n",
      "0.06335886056178161 0.3414766040876437\n",
      "\n",
      "date:2020-03-13\n",
      "0.07373897860077022 0.3495151963530167\n",
      "\n",
      "date:2020-03-14\n",
      "0.06303593626748466 0.3366551926748466\n",
      "\n",
      "date:2020-03-15\n",
      "0.08869884331387808 0.3508209501335927\n",
      "\n",
      "date:2020-03-16\n",
      "0.08047185840958605 0.3525432952843137\n",
      "\n",
      "date:2020-03-17\n",
      "0.09361945317472119 0.33512988126765797\n",
      "\n",
      "date:2020-03-18\n",
      "0.07350118069435736 0.33429033419043885\n",
      "\n",
      "date:2020-03-19\n",
      "0.09668082254363143 0.3510091053560976\n",
      "\n",
      "date:2020-03-20\n",
      "0.08253709750436534 0.34270097209536604\n",
      "\n",
      "date:2020-03-21\n",
      "0.12249858835920294 0.37445373692344\n",
      "\n",
      "date:2020-03-22\n",
      "0.1176446060518992 0.34674614803497555\n",
      "\n",
      "date:2020-03-23\n",
      "0.08866137588262668 0.35986382049482935\n",
      "\n",
      "date:2020-03-24\n",
      "0.09932686059559472 0.35874407073920705\n",
      "\n",
      "date:2020-03-25\n",
      "0.09510840422328931 0.35679078605222087\n",
      "\n",
      "date:2020-03-26\n",
      "0.08036299755303868 0.35413885196685085\n",
      "\n",
      "date:2020-03-27\n",
      "0.0933760827235732 0.3464187509841191\n",
      "\n",
      "date:2020-03-28\n",
      "0.08409668813743637 0.359017310734845\n",
      "\n",
      "date:2020-03-29\n",
      "0.07879959163755458 0.3678008181118996\n",
      "\n",
      "date:2020-03-30\n",
      "0.06403346401001896 0.32453177694439933\n"
     ]
    }
   ],
   "source": [
    "from statistics import mean\n",
    "\n",
    "def ok(da):\n",
    "    temp = df[\"Polarity\"].where(df['Datetime']==da)\n",
    "    temp = [x for x in temp if str(x) != 'nan']\n",
    "    po = mean(temp)\n",
    "    \n",
    "    temp1 = df[\"Subjectivity\"].where(df['Datetime']==da)\n",
    "    temp1 = [x for x in temp1 if str(x) != 'nan']\n",
    "    su = mean(temp1)\n",
    "    \n",
    "    \n",
    "    \n",
    "    print(po, su)\n",
    "    return (da, po, su)\n",
    "\n",
    "    \n",
    "lst = []\n",
    "for da in t:\n",
    "    print()\n",
    "    print(f'date:{da}')\n",
    "    lst.append(ok(da))"
   ]
  },
  {
   "cell_type": "code",
   "execution_count": 118,
   "metadata": {},
   "outputs": [],
   "source": [
    "dff = pd.DataFrame(lst)\n",
    "dff.columns = ['date', 'Polarity', 'Subjectivity']"
   ]
  },
  {
   "cell_type": "code",
   "execution_count": 119,
   "metadata": {},
   "outputs": [
    {
     "data": {
      "text/html": [
       "<div>\n",
       "<style scoped>\n",
       "    .dataframe tbody tr th:only-of-type {\n",
       "        vertical-align: middle;\n",
       "    }\n",
       "\n",
       "    .dataframe tbody tr th {\n",
       "        vertical-align: top;\n",
       "    }\n",
       "\n",
       "    .dataframe thead th {\n",
       "        text-align: right;\n",
       "    }\n",
       "</style>\n",
       "<table border=\"1\" class=\"dataframe\">\n",
       "  <thead>\n",
       "    <tr style=\"text-align: right;\">\n",
       "      <th></th>\n",
       "      <th>date</th>\n",
       "      <th>Polarity</th>\n",
       "      <th>Subjectivity</th>\n",
       "    </tr>\n",
       "  </thead>\n",
       "  <tbody>\n",
       "    <tr>\n",
       "      <th>0</th>\n",
       "      <td>2020-03-01</td>\n",
       "      <td>0.111486</td>\n",
       "      <td>0.400250</td>\n",
       "    </tr>\n",
       "    <tr>\n",
       "      <th>1</th>\n",
       "      <td>2020-03-02</td>\n",
       "      <td>0.076208</td>\n",
       "      <td>0.374060</td>\n",
       "    </tr>\n",
       "    <tr>\n",
       "      <th>2</th>\n",
       "      <td>2020-03-03</td>\n",
       "      <td>0.066661</td>\n",
       "      <td>0.356695</td>\n",
       "    </tr>\n",
       "    <tr>\n",
       "      <th>3</th>\n",
       "      <td>2020-03-04</td>\n",
       "      <td>0.089355</td>\n",
       "      <td>0.350825</td>\n",
       "    </tr>\n",
       "    <tr>\n",
       "      <th>4</th>\n",
       "      <td>2020-03-05</td>\n",
       "      <td>0.094081</td>\n",
       "      <td>0.368388</td>\n",
       "    </tr>\n",
       "  </tbody>\n",
       "</table>\n",
       "</div>"
      ],
      "text/plain": [
       "         date  Polarity  Subjectivity\n",
       "0  2020-03-01  0.111486      0.400250\n",
       "1  2020-03-02  0.076208      0.374060\n",
       "2  2020-03-03  0.066661      0.356695\n",
       "3  2020-03-04  0.089355      0.350825\n",
       "4  2020-03-05  0.094081      0.368388"
      ]
     },
     "execution_count": 119,
     "metadata": {},
     "output_type": "execute_result"
    }
   ],
   "source": [
    "dff.head()"
   ]
  },
  {
   "cell_type": "code",
   "execution_count": 120,
   "metadata": {},
   "outputs": [
    {
     "data": {
      "text/plain": [
       "0.04874880055613577"
      ]
     },
     "execution_count": 120,
     "metadata": {},
     "output_type": "execute_result"
    }
   ],
   "source": [
    "dff.Polarity.min()"
   ]
  },
  {
   "cell_type": "code",
   "execution_count": 121,
   "metadata": {},
   "outputs": [
    {
     "data": {
      "text/plain": [
       "0.12249858835920294"
      ]
     },
     "execution_count": 121,
     "metadata": {},
     "output_type": "execute_result"
    }
   ],
   "source": [
    "dff.Polarity.max()"
   ]
  },
  {
   "cell_type": "code",
   "execution_count": 122,
   "metadata": {},
   "outputs": [],
   "source": [
    "from statistics import mean, stdev"
   ]
  },
  {
   "cell_type": "code",
   "execution_count": 123,
   "metadata": {},
   "outputs": [],
   "source": [
    "def nor(x):\n",
    "    dev = stdev(dff[\"Polarity\"])\n",
    "    mea = mean(dff[\"Polarity\"])\n",
    "    return (x- mea)/dev\n",
    "    \n",
    "    \n",
    "    \n",
    "dff[\"std_polar\"] = dff.Polarity.apply(nor)\n"
   ]
  },
  {
   "cell_type": "code",
   "execution_count": 124,
   "metadata": {},
   "outputs": [
    {
     "data": {
      "text/plain": [
       "count    3.000000e+01\n",
       "mean    -3.700743e-17\n",
       "std      1.000000e+00\n",
       "min     -1.959343e+00\n",
       "25%     -6.049281e-01\n",
       "50%      9.479585e-02\n",
       "75%      5.308330e-01\n",
       "max      2.066471e+00\n",
       "Name: std_polar, dtype: float64"
      ]
     },
     "execution_count": 124,
     "metadata": {},
     "output_type": "execute_result"
    }
   ],
   "source": [
    "dff[\"std_polar\"].describe()"
   ]
  },
  {
   "cell_type": "code",
   "execution_count": 125,
   "metadata": {},
   "outputs": [
    {
     "data": {
      "text/plain": [
       "count    30.000000\n",
       "mean      0.354263\n",
       "std       0.018582\n",
       "min       0.312172\n",
       "25%       0.343630\n",
       "50%       0.351776\n",
       "75%       0.359652\n",
       "max       0.400250\n",
       "Name: Subjectivity, dtype: float64"
      ]
     },
     "execution_count": 125,
     "metadata": {},
     "output_type": "execute_result"
    }
   ],
   "source": [
    "dff[\"Subjectivity\"].describe()"
   ]
  },
  {
   "cell_type": "code",
   "execution_count": 126,
   "metadata": {},
   "outputs": [],
   "source": [
    "import numpy as np\n",
    "\n",
    "def NormalizeData(data):\n",
    "    return (data - np.min(data)) / (np.max(data) - np.min(data))\n",
    "\n",
    "t = NormalizeData(dff[\"Subjectivity\"])\n",
    "dff[\"nor_sub\"] = t"
   ]
  },
  {
   "cell_type": "code",
   "execution_count": 127,
   "metadata": {},
   "outputs": [
    {
     "data": {
      "text/plain": [
       "count    30.000000\n",
       "mean      0.477879\n",
       "std       0.210976\n",
       "min       0.000000\n",
       "25%       0.357165\n",
       "50%       0.449649\n",
       "75%       0.539069\n",
       "max       1.000000\n",
       "Name: nor_sub, dtype: float64"
      ]
     },
     "execution_count": 127,
     "metadata": {},
     "output_type": "execute_result"
    }
   ],
   "source": [
    "dff[\"nor_sub\"].describe()"
   ]
  },
  {
   "cell_type": "code",
   "execution_count": 128,
   "metadata": {},
   "outputs": [
    {
     "data": {
      "text/html": [
       "<div>\n",
       "<style scoped>\n",
       "    .dataframe tbody tr th:only-of-type {\n",
       "        vertical-align: middle;\n",
       "    }\n",
       "\n",
       "    .dataframe tbody tr th {\n",
       "        vertical-align: top;\n",
       "    }\n",
       "\n",
       "    .dataframe thead th {\n",
       "        text-align: right;\n",
       "    }\n",
       "</style>\n",
       "<table border=\"1\" class=\"dataframe\">\n",
       "  <thead>\n",
       "    <tr style=\"text-align: right;\">\n",
       "      <th></th>\n",
       "      <th>date</th>\n",
       "      <th>Polarity</th>\n",
       "      <th>Subjectivity</th>\n",
       "      <th>std_polar</th>\n",
       "      <th>nor_sub</th>\n",
       "    </tr>\n",
       "  </thead>\n",
       "  <tbody>\n",
       "    <tr>\n",
       "      <th>0</th>\n",
       "      <td>2020-03-01</td>\n",
       "      <td>0.111486</td>\n",
       "      <td>0.400250</td>\n",
       "      <td>1.465326</td>\n",
       "      <td>1.000000</td>\n",
       "    </tr>\n",
       "    <tr>\n",
       "      <th>1</th>\n",
       "      <td>2020-03-02</td>\n",
       "      <td>0.076208</td>\n",
       "      <td>0.374060</td>\n",
       "      <td>-0.460398</td>\n",
       "      <td>0.702652</td>\n",
       "    </tr>\n",
       "    <tr>\n",
       "      <th>2</th>\n",
       "      <td>2020-03-03</td>\n",
       "      <td>0.066661</td>\n",
       "      <td>0.356695</td>\n",
       "      <td>-0.981578</td>\n",
       "      <td>0.505493</td>\n",
       "    </tr>\n",
       "    <tr>\n",
       "      <th>3</th>\n",
       "      <td>2020-03-04</td>\n",
       "      <td>0.089355</td>\n",
       "      <td>0.350825</td>\n",
       "      <td>0.257225</td>\n",
       "      <td>0.438847</td>\n",
       "    </tr>\n",
       "    <tr>\n",
       "      <th>4</th>\n",
       "      <td>2020-03-05</td>\n",
       "      <td>0.094081</td>\n",
       "      <td>0.368388</td>\n",
       "      <td>0.515205</td>\n",
       "      <td>0.638253</td>\n",
       "    </tr>\n",
       "  </tbody>\n",
       "</table>\n",
       "</div>"
      ],
      "text/plain": [
       "         date  Polarity  Subjectivity  std_polar   nor_sub\n",
       "0  2020-03-01  0.111486      0.400250   1.465326  1.000000\n",
       "1  2020-03-02  0.076208      0.374060  -0.460398  0.702652\n",
       "2  2020-03-03  0.066661      0.356695  -0.981578  0.505493\n",
       "3  2020-03-04  0.089355      0.350825   0.257225  0.438847\n",
       "4  2020-03-05  0.094081      0.368388   0.515205  0.638253"
      ]
     },
     "execution_count": 128,
     "metadata": {},
     "output_type": "execute_result"
    }
   ],
   "source": [
    "dff.head() # 'std_polar' is standardized polarity and 'nor_sub' is for normalized subjectivity"
   ]
  },
  {
   "cell_type": "code",
   "execution_count": null,
   "metadata": {},
   "outputs": [],
   "source": []
  }
 ],
 "metadata": {
  "kernelspec": {
   "display_name": "Python 3",
   "language": "python",
   "name": "python3"
  },
  "language_info": {
   "codemirror_mode": {
    "name": "ipython",
    "version": 3
   },
   "file_extension": ".py",
   "mimetype": "text/x-python",
   "name": "python",
   "nbconvert_exporter": "python",
   "pygments_lexer": "ipython3",
   "version": "3.7.6"
  }
 },
 "nbformat": 4,
 "nbformat_minor": 4
}
