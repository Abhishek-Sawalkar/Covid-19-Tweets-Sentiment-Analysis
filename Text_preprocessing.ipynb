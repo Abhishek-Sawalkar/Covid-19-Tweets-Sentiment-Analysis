{
  "nbformat": 4,
  "nbformat_minor": 0,
  "metadata": {
    "kernelspec": {
      "language": "python",
      "display_name": "Python 3",
      "name": "python3"
    },
    "language_info": {
      "pygments_lexer": "ipython3",
      "nbconvert_exporter": "python",
      "version": "3.6.4",
      "file_extension": ".py",
      "codemirror_mode": {
        "name": "ipython",
        "version": 3
      },
      "name": "python",
      "mimetype": "text/x-python"
    },
    "colab": {
      "name": "Text preprocessing.ipynb",
      "provenance": [],
      "collapsed_sections": []
    }
  },
  "cells": [
    {
      "cell_type": "code",
      "metadata": {
        "id": "nW7N5xyMw4it",
        "colab_type": "code",
        "outputId": "8264fdc7-b1b4-4142-d2ce-90d340f2b0cb",
        "colab": {
          "resources": {
            "http://localhost:8080/nbextensions/google.colab/files.js": {
              "data": "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",
              "ok": true,
              "headers": [
                [
                  "content-type",
                  "application/javascript"
                ]
              ],
              "status": 200,
              "status_text": ""
            }
          },
          "base_uri": "https://localhost:8080/",
          "height": 125
        }
      },
      "source": [
        "from google.colab import files\n",
        "\n",
        "# Install Kaggle library\n",
        "!pip install -q kaggle\n",
        "u = files.upload()\n",
        "# upload ur kaggle api\n",
        "\n",
        "!mkdir -p ~/.kaggle\n",
        "!cp kaggle.json ~/.kaggle/\n",
        "!chmod 600 /root/.kaggle/kaggle.json\n",
        "# kaggle dataset\n",
        "!kaggle datasets download -d smid80/coronavirus-covid19-tweets-early-april"
      ],
      "execution_count": 1,
      "outputs": [
        {
          "output_type": "display_data",
          "data": {
            "text/html": [
              "\n",
              "     <input type=\"file\" id=\"files-7a688e89-a6d4-47cb-b940-bc9b3581f9a9\" name=\"files[]\" multiple disabled />\n",
              "     <output id=\"result-7a688e89-a6d4-47cb-b940-bc9b3581f9a9\">\n",
              "      Upload widget is only available when the cell has been executed in the\n",
              "      current browser session. Please rerun this cell to enable.\n",
              "      </output>\n",
              "      <script src=\"/nbextensions/google.colab/files.js\"></script> "
            ],
            "text/plain": [
              "<IPython.core.display.HTML object>"
            ]
          },
          "metadata": {
            "tags": []
          }
        },
        {
          "output_type": "stream",
          "text": [
            "Saving kaggle.json to kaggle.json\n",
            "Downloading coronavirus-covid19-tweets-early-april.zip to /content\n",
            "100% 1.30G/1.30G [00:32<00:00, 52.1MB/s]\n",
            "100% 1.30G/1.30G [00:32<00:00, 42.9MB/s]\n"
          ],
          "name": "stdout"
        }
      ]
    },
    {
      "cell_type": "code",
      "metadata": {
        "trusted": true,
        "id": "GjwV2MM-wssq",
        "colab_type": "code",
        "outputId": "dc665c1d-8ea3-4d71-c1ff-2d730856af67",
        "colab": {
          "base_uri": "https://localhost:8080/",
          "height": 104
        }
      },
      "source": [
        "!pip install tweet-preprocessor"
      ],
      "execution_count": 2,
      "outputs": [
        {
          "output_type": "stream",
          "text": [
            "Collecting tweet-preprocessor\n",
            "  Downloading https://files.pythonhosted.org/packages/17/9d/71bd016a9edcef8860c607e531f30bd09b13103c7951ae73dd2bf174163c/tweet_preprocessor-0.6.0-py3-none-any.whl\n",
            "Installing collected packages: tweet-preprocessor\n",
            "Successfully installed tweet-preprocessor-0.6.0\n"
          ],
          "name": "stdout"
        }
      ]
    },
    {
      "cell_type": "code",
      "metadata": {
        "_uuid": "8f2839f25d086af736a60e9eeb907d3b93b6e0e5",
        "_cell_guid": "b1076dfc-b9ad-4769-8c92-a6c4dae69d19",
        "trusted": true,
        "id": "dNt3eGaNwss4",
        "colab_type": "code",
        "outputId": "6823a8c8-ce2a-4db9-f9d6-8d6fb92e039c",
        "colab": {
          "base_uri": "https://localhost:8080/",
          "height": 386
        }
      },
      "source": [
        "# This Python 3 environment comes with many helpful analytics libraries installed\n",
        "# It is defined by the kaggle/python Docker image: https://github.com/kaggle/docker-python\n",
        "# For example, here's several helpful packages to load\n",
        "\n",
        "import numpy as np # linear algebra\n",
        "import pandas as pd # data processing, CSV file I/O (e.g. pd.read_csv)\n",
        "import re #regular expressions\n",
        "import string \n",
        "\n",
        "from nltk.corpus import stopwords\n",
        "from nltk import word_tokenize\n",
        "import preprocessor as p\n",
        "# Input data files are available in the read-only \"../input/\" directory\n",
        "# For example, running this (by clicking run or pressing Shift+Enter) will list all files under the input directory\n",
        "\n",
        "reuse = False\n",
        "\n",
        "import os\n",
        "for dirname, _, filenames in os.walk('/content'):\n",
        "    for filename in filenames:\n",
        "        print(os.path.join(dirname, filename))\n",
        "\n",
        "# You can write up to 5GB to the current directory (/kaggle/working/) that gets preserved as output when you create a version using \"Save & Run All\" \n",
        "# You can also write temporary files to /kaggle/temp/, but they won't be saved outside of the current session"
      ],
      "execution_count": 3,
      "outputs": [
        {
          "output_type": "stream",
          "text": [
            "/content/coronavirus-covid19-tweets-early-april.zip\n",
            "/content/kaggle.json\n",
            "/content/.config/.last_opt_in_prompt.yaml\n",
            "/content/.config/config_sentinel\n",
            "/content/.config/gce\n",
            "/content/.config/.last_update_check.json\n",
            "/content/.config/active_config\n",
            "/content/.config/.last_survey_prompt.yaml\n",
            "/content/.config/.metricsUUID\n",
            "/content/.config/logs/2020.05.13/16.28.34.606443.log\n",
            "/content/.config/logs/2020.05.13/16.28.53.120787.log\n",
            "/content/.config/logs/2020.05.13/16.29.24.028929.log\n",
            "/content/.config/logs/2020.05.13/16.29.23.578572.log\n",
            "/content/.config/logs/2020.05.13/16.29.05.704397.log\n",
            "/content/.config/logs/2020.05.13/16.29.09.991403.log\n",
            "/content/.config/configurations/config_default\n",
            "/content/sample_data/README.md\n",
            "/content/sample_data/anscombe.json\n",
            "/content/sample_data/mnist_test.csv\n",
            "/content/sample_data/california_housing_train.csv\n",
            "/content/sample_data/california_housing_test.csv\n",
            "/content/sample_data/mnist_train_small.csv\n"
          ],
          "name": "stdout"
        }
      ]
    },
    {
      "cell_type": "code",
      "metadata": {
        "id": "ZxihxNoBsCRW",
        "colab_type": "code",
        "colab": {}
      },
      "source": [
        "if not os.path.exists('data'):\n",
        "    os.makedirs('data')\n"
      ],
      "execution_count": 0,
      "outputs": []
    },
    {
      "cell_type": "code",
      "metadata": {
        "id": "aq1DwcbGtwds",
        "colab_type": "code",
        "colab": {}
      },
      "source": [
        "!mv coronavirus-covid19-tweets-early-april.zip data"
      ],
      "execution_count": 0,
      "outputs": []
    },
    {
      "cell_type": "code",
      "metadata": {
        "id": "XpdJClWIs2sD",
        "colab_type": "code",
        "outputId": "8b891de4-a51a-4016-f05f-21d9edbe8b65",
        "colab": {
          "base_uri": "https://localhost:8080/",
          "height": 336
        }
      },
      "source": [
        "!unzip '/content/data/coronavirus-covid19-tweets-early-april.zip' -d '/content/data'"
      ],
      "execution_count": 14,
      "outputs": [
        {
          "output_type": "stream",
          "text": [
            "Archive:  /content/data/coronavirus-covid19-tweets-early-april.zip\n",
            "  inflating: /content/data/2020-03-29 Coronavirus Tweets.CSV  \n",
            "  inflating: /content/data/2020-03-30 Coronavirus Tweets.CSV  \n",
            "  inflating: /content/data/2020-03-31 Coronavirus Tweets.CSV  \n",
            "  inflating: /content/data/2020-04-01 Coronavirus Tweets.CSV  \n",
            "  inflating: /content/data/2020-04-02 Coronavirus Tweets.CSV  \n",
            "  inflating: /content/data/2020-04-03 Coronavirus Tweets.CSV  \n",
            "  inflating: /content/data/2020-04-04 Coronavirus Tweets.CSV  \n",
            "  inflating: /content/data/2020-04-05 Coronavirus Tweets.CSV  \n",
            "  inflating: /content/data/2020-04-06 Coronavirus Tweets.CSV  \n",
            "  inflating: /content/data/2020-04-07 Coronavirus Tweets.CSV  \n",
            "  inflating: /content/data/2020-04-08 Coronavirus Tweets.CSV  \n",
            "  inflating: /content/data/2020-04-09 Coronavirus Tweets.CSV  \n",
            "  inflating: /content/data/2020-04-10 Coronavirus Tweets.CSV  \n",
            "  inflating: /content/data/2020-04-11 Coronavirus Tweets.CSV  \n",
            "  inflating: /content/data/2020-04-12 Coronavirus Tweets.CSV  \n",
            "  inflating: /content/data/2020-04-13 Coronavirus Tweets.CSV  \n",
            "  inflating: /content/data/2020-04-14 Coronavirus Tweets.CSV  \n",
            "  inflating: /content/data/2020-04-15 Coronavirus Tweets.CSV  \n"
          ],
          "name": "stdout"
        }
      ]
    },
    {
      "cell_type": "code",
      "metadata": {
        "_uuid": "d629ff2d2480ee46fbb7e2d37f6b5fab8052498a",
        "_cell_guid": "79c7e3d0-c299-4dcb-8224-4455121ee9b0",
        "trusted": true,
        "id": "c95JPJeHwstY",
        "colab_type": "code",
        "colab": {}
      },
      "source": [
        "def join_df(path):\n",
        "    data = pd.DataFrame()\n",
        "    sub_path = 'data'\n",
        "    print(f\"In path : {path}{sub_path}\")\n",
        "    for file in os.listdir(path+sub_path):\n",
        "      if file == \"coronavirus-covid19-tweets-early-april.zip\":\n",
        "          continue\n",
        "      else:\n",
        "          temp = pd.read_csv(path+sub_path+'/'+file)\n",
        "          temp = temp[(temp.country_code=='IN') & (temp.lang=='en') ]\n",
        "          data = pd.concat([data,temp])\n",
        "    return data\n",
        "        "
      ],
      "execution_count": 0,
      "outputs": []
    },
    {
      "cell_type": "code",
      "metadata": {
        "trusted": true,
        "id": "DTKcpAwWwstj",
        "colab_type": "code",
        "outputId": "893c6d5e-1668-4f69-87cd-1a4d11758965",
        "colab": {
          "base_uri": "https://localhost:8080/",
          "height": 202
        }
      },
      "source": [
        "path = '/content/'\n",
        "\n",
        "\n",
        "print('Creating main dataset')\n",
        "df = join_df(path)\n",
        "df.to_csv(\"/content/main.csv\")\n",
        "    \n",
        "    \n",
        "print(df.head())\n",
        "print(df.shape)"
      ],
      "execution_count": 55,
      "outputs": [
        {
          "output_type": "stream",
          "text": [
            "Creating main dataset\n",
            "In path : /content/data\n",
            "                 status_id             user_id  ... verified lang\n",
            "292    1245863655586979840  857681810830094338  ...    False   en\n",
            "6704   1245869432938754048            70794773  ...    False   en\n",
            "7008   1245869720206639105  857681810830094338  ...    False   en\n",
            "7736   1245870439231963136            61502443  ...    False   en\n",
            "13351  1245875580014223360  825342313144651776  ...    False   en\n",
            "\n",
            "[5 rows x 22 columns]\n",
            "(23949, 22)\n"
          ],
          "name": "stdout"
        }
      ]
    },
    {
      "cell_type": "code",
      "metadata": {
        "trusted": true,
        "id": "bNxd7bwYwsto",
        "colab_type": "code",
        "outputId": "bf903967-3932-4986-cf7c-2bb0152a3386",
        "colab": {
          "base_uri": "https://localhost:8080/",
          "height": 403
        }
      },
      "source": [
        "# checking for missing values\n",
        "df.isnull().sum()"
      ],
      "execution_count": 56,
      "outputs": [
        {
          "output_type": "execute_result",
          "data": {
            "text/plain": [
              "status_id                   0\n",
              "user_id                     0\n",
              "created_at                  0\n",
              "screen_name                 0\n",
              "text                        0\n",
              "source                      0\n",
              "reply_to_status_id      21039\n",
              "reply_to_user_id        19812\n",
              "reply_to_screen_name    19812\n",
              "is_quote                    0\n",
              "is_retweet                  0\n",
              "favourites_count            0\n",
              "retweet_count               0\n",
              "country_code                0\n",
              "place_full_name             0\n",
              "place_type                  0\n",
              "followers_count             0\n",
              "friends_count               0\n",
              "account_lang            23949\n",
              "account_created_at          0\n",
              "verified                    0\n",
              "lang                        0\n",
              "dtype: int64"
            ]
          },
          "metadata": {
            "tags": []
          },
          "execution_count": 56
        }
      ]
    },
    {
      "cell_type": "code",
      "metadata": {
        "trusted": true,
        "id": "I1tTHToSwsty",
        "colab_type": "code",
        "outputId": "d6ef4257-d622-406e-ff2c-bf450cedc79f",
        "colab": {
          "base_uri": "https://localhost:8080/",
          "height": 390
        }
      },
      "source": [
        "#drop colunmns with null values and non relevant columns \n",
        "\n",
        "df.drop(df.columns[df.isnull().any()],axis=1,inplace=True)\n",
        "if reuse:\n",
        "    \n",
        "    df.drop(['Unnamed: 0','favourites_count','retweet_count','country_code','followers_count','friends_count','verified','account_created_at','lang'],axis=1,inplace=True)\n",
        "else:\n",
        "    df.drop(['favourites_count','retweet_count','country_code','followers_count','friends_count','verified','account_created_at','lang'],axis=1,inplace=True)\n",
        "\n",
        "    \n",
        "df.head()"
      ],
      "execution_count": 58,
      "outputs": [
        {
          "output_type": "error",
          "ename": "KeyError",
          "evalue": "ignored",
          "traceback": [
            "\u001b[0;31m---------------------------------------------------------------------------\u001b[0m",
            "\u001b[0;31mKeyError\u001b[0m                                  Traceback (most recent call last)",
            "\u001b[0;32m<ipython-input-58-2f4b0a3f65cf>\u001b[0m in \u001b[0;36m<module>\u001b[0;34m()\u001b[0m\n\u001b[1;32m      4\u001b[0m \u001b[0;32mif\u001b[0m \u001b[0mreuse\u001b[0m\u001b[0;34m:\u001b[0m\u001b[0;34m\u001b[0m\u001b[0;34m\u001b[0m\u001b[0m\n\u001b[1;32m      5\u001b[0m \u001b[0;34m\u001b[0m\u001b[0m\n\u001b[0;32m----> 6\u001b[0;31m     \u001b[0mdf\u001b[0m\u001b[0;34m.\u001b[0m\u001b[0mdrop\u001b[0m\u001b[0;34m(\u001b[0m\u001b[0;34m[\u001b[0m\u001b[0;34m'Unnamed: 0'\u001b[0m\u001b[0;34m,\u001b[0m\u001b[0;34m'favourites_count'\u001b[0m\u001b[0;34m,\u001b[0m\u001b[0;34m'retweet_count'\u001b[0m\u001b[0;34m,\u001b[0m\u001b[0;34m'country_code'\u001b[0m\u001b[0;34m,\u001b[0m\u001b[0;34m'followers_count'\u001b[0m\u001b[0;34m,\u001b[0m\u001b[0;34m'friends_count'\u001b[0m\u001b[0;34m,\u001b[0m\u001b[0;34m'verified'\u001b[0m\u001b[0;34m,\u001b[0m\u001b[0;34m'account_created_at'\u001b[0m\u001b[0;34m,\u001b[0m\u001b[0;34m'lang'\u001b[0m\u001b[0;34m]\u001b[0m\u001b[0;34m,\u001b[0m\u001b[0maxis\u001b[0m\u001b[0;34m=\u001b[0m\u001b[0;36m1\u001b[0m\u001b[0;34m,\u001b[0m\u001b[0minplace\u001b[0m\u001b[0;34m=\u001b[0m\u001b[0;32mTrue\u001b[0m\u001b[0;34m)\u001b[0m\u001b[0;34m\u001b[0m\u001b[0;34m\u001b[0m\u001b[0m\n\u001b[0m\u001b[1;32m      7\u001b[0m \u001b[0;32melse\u001b[0m\u001b[0;34m:\u001b[0m\u001b[0;34m\u001b[0m\u001b[0;34m\u001b[0m\u001b[0m\n\u001b[1;32m      8\u001b[0m     \u001b[0mdf\u001b[0m\u001b[0;34m.\u001b[0m\u001b[0mdrop\u001b[0m\u001b[0;34m(\u001b[0m\u001b[0;34m[\u001b[0m\u001b[0;34m'favourites_count'\u001b[0m\u001b[0;34m,\u001b[0m\u001b[0;34m'retweet_count'\u001b[0m\u001b[0;34m,\u001b[0m\u001b[0;34m'country_code'\u001b[0m\u001b[0;34m,\u001b[0m\u001b[0;34m'followers_count'\u001b[0m\u001b[0;34m,\u001b[0m\u001b[0;34m'friends_count'\u001b[0m\u001b[0;34m,\u001b[0m\u001b[0;34m'verified'\u001b[0m\u001b[0;34m,\u001b[0m\u001b[0;34m'account_created_at'\u001b[0m\u001b[0;34m,\u001b[0m\u001b[0;34m'lang'\u001b[0m\u001b[0;34m]\u001b[0m\u001b[0;34m,\u001b[0m\u001b[0maxis\u001b[0m\u001b[0;34m=\u001b[0m\u001b[0;36m1\u001b[0m\u001b[0;34m,\u001b[0m\u001b[0minplace\u001b[0m\u001b[0;34m=\u001b[0m\u001b[0;32mTrue\u001b[0m\u001b[0;34m)\u001b[0m\u001b[0;34m\u001b[0m\u001b[0;34m\u001b[0m\u001b[0m\n",
            "\u001b[0;32m/usr/local/lib/python3.6/dist-packages/pandas/core/frame.py\u001b[0m in \u001b[0;36mdrop\u001b[0;34m(self, labels, axis, index, columns, level, inplace, errors)\u001b[0m\n\u001b[1;32m   3995\u001b[0m             \u001b[0mlevel\u001b[0m\u001b[0;34m=\u001b[0m\u001b[0mlevel\u001b[0m\u001b[0;34m,\u001b[0m\u001b[0;34m\u001b[0m\u001b[0;34m\u001b[0m\u001b[0m\n\u001b[1;32m   3996\u001b[0m             \u001b[0minplace\u001b[0m\u001b[0;34m=\u001b[0m\u001b[0minplace\u001b[0m\u001b[0;34m,\u001b[0m\u001b[0;34m\u001b[0m\u001b[0;34m\u001b[0m\u001b[0m\n\u001b[0;32m-> 3997\u001b[0;31m             \u001b[0merrors\u001b[0m\u001b[0;34m=\u001b[0m\u001b[0merrors\u001b[0m\u001b[0;34m,\u001b[0m\u001b[0;34m\u001b[0m\u001b[0;34m\u001b[0m\u001b[0m\n\u001b[0m\u001b[1;32m   3998\u001b[0m         )\n\u001b[1;32m   3999\u001b[0m \u001b[0;34m\u001b[0m\u001b[0m\n",
            "\u001b[0;32m/usr/local/lib/python3.6/dist-packages/pandas/core/generic.py\u001b[0m in \u001b[0;36mdrop\u001b[0;34m(self, labels, axis, index, columns, level, inplace, errors)\u001b[0m\n\u001b[1;32m   3934\u001b[0m         \u001b[0;32mfor\u001b[0m \u001b[0maxis\u001b[0m\u001b[0;34m,\u001b[0m \u001b[0mlabels\u001b[0m \u001b[0;32min\u001b[0m \u001b[0maxes\u001b[0m\u001b[0;34m.\u001b[0m\u001b[0mitems\u001b[0m\u001b[0;34m(\u001b[0m\u001b[0;34m)\u001b[0m\u001b[0;34m:\u001b[0m\u001b[0;34m\u001b[0m\u001b[0;34m\u001b[0m\u001b[0m\n\u001b[1;32m   3935\u001b[0m             \u001b[0;32mif\u001b[0m \u001b[0mlabels\u001b[0m \u001b[0;32mis\u001b[0m \u001b[0;32mnot\u001b[0m \u001b[0;32mNone\u001b[0m\u001b[0;34m:\u001b[0m\u001b[0;34m\u001b[0m\u001b[0;34m\u001b[0m\u001b[0m\n\u001b[0;32m-> 3936\u001b[0;31m                 \u001b[0mobj\u001b[0m \u001b[0;34m=\u001b[0m \u001b[0mobj\u001b[0m\u001b[0;34m.\u001b[0m\u001b[0m_drop_axis\u001b[0m\u001b[0;34m(\u001b[0m\u001b[0mlabels\u001b[0m\u001b[0;34m,\u001b[0m \u001b[0maxis\u001b[0m\u001b[0;34m,\u001b[0m \u001b[0mlevel\u001b[0m\u001b[0;34m=\u001b[0m\u001b[0mlevel\u001b[0m\u001b[0;34m,\u001b[0m \u001b[0merrors\u001b[0m\u001b[0;34m=\u001b[0m\u001b[0merrors\u001b[0m\u001b[0;34m)\u001b[0m\u001b[0;34m\u001b[0m\u001b[0;34m\u001b[0m\u001b[0m\n\u001b[0m\u001b[1;32m   3937\u001b[0m \u001b[0;34m\u001b[0m\u001b[0m\n\u001b[1;32m   3938\u001b[0m         \u001b[0;32mif\u001b[0m \u001b[0minplace\u001b[0m\u001b[0;34m:\u001b[0m\u001b[0;34m\u001b[0m\u001b[0;34m\u001b[0m\u001b[0m\n",
            "\u001b[0;32m/usr/local/lib/python3.6/dist-packages/pandas/core/generic.py\u001b[0m in \u001b[0;36m_drop_axis\u001b[0;34m(self, labels, axis, level, errors)\u001b[0m\n\u001b[1;32m   3968\u001b[0m                 \u001b[0mnew_axis\u001b[0m \u001b[0;34m=\u001b[0m \u001b[0maxis\u001b[0m\u001b[0;34m.\u001b[0m\u001b[0mdrop\u001b[0m\u001b[0;34m(\u001b[0m\u001b[0mlabels\u001b[0m\u001b[0;34m,\u001b[0m \u001b[0mlevel\u001b[0m\u001b[0;34m=\u001b[0m\u001b[0mlevel\u001b[0m\u001b[0;34m,\u001b[0m \u001b[0merrors\u001b[0m\u001b[0;34m=\u001b[0m\u001b[0merrors\u001b[0m\u001b[0;34m)\u001b[0m\u001b[0;34m\u001b[0m\u001b[0;34m\u001b[0m\u001b[0m\n\u001b[1;32m   3969\u001b[0m             \u001b[0;32melse\u001b[0m\u001b[0;34m:\u001b[0m\u001b[0;34m\u001b[0m\u001b[0;34m\u001b[0m\u001b[0m\n\u001b[0;32m-> 3970\u001b[0;31m                 \u001b[0mnew_axis\u001b[0m \u001b[0;34m=\u001b[0m \u001b[0maxis\u001b[0m\u001b[0;34m.\u001b[0m\u001b[0mdrop\u001b[0m\u001b[0;34m(\u001b[0m\u001b[0mlabels\u001b[0m\u001b[0;34m,\u001b[0m \u001b[0merrors\u001b[0m\u001b[0;34m=\u001b[0m\u001b[0merrors\u001b[0m\u001b[0;34m)\u001b[0m\u001b[0;34m\u001b[0m\u001b[0;34m\u001b[0m\u001b[0m\n\u001b[0m\u001b[1;32m   3971\u001b[0m             \u001b[0mresult\u001b[0m \u001b[0;34m=\u001b[0m \u001b[0mself\u001b[0m\u001b[0;34m.\u001b[0m\u001b[0mreindex\u001b[0m\u001b[0;34m(\u001b[0m\u001b[0;34m**\u001b[0m\u001b[0;34m{\u001b[0m\u001b[0maxis_name\u001b[0m\u001b[0;34m:\u001b[0m \u001b[0mnew_axis\u001b[0m\u001b[0;34m}\u001b[0m\u001b[0;34m)\u001b[0m\u001b[0;34m\u001b[0m\u001b[0;34m\u001b[0m\u001b[0m\n\u001b[1;32m   3972\u001b[0m \u001b[0;34m\u001b[0m\u001b[0m\n",
            "\u001b[0;32m/usr/local/lib/python3.6/dist-packages/pandas/core/indexes/base.py\u001b[0m in \u001b[0;36mdrop\u001b[0;34m(self, labels, errors)\u001b[0m\n\u001b[1;32m   5015\u001b[0m         \u001b[0;32mif\u001b[0m \u001b[0mmask\u001b[0m\u001b[0;34m.\u001b[0m\u001b[0many\u001b[0m\u001b[0;34m(\u001b[0m\u001b[0;34m)\u001b[0m\u001b[0;34m:\u001b[0m\u001b[0;34m\u001b[0m\u001b[0;34m\u001b[0m\u001b[0m\n\u001b[1;32m   5016\u001b[0m             \u001b[0;32mif\u001b[0m \u001b[0merrors\u001b[0m \u001b[0;34m!=\u001b[0m \u001b[0;34m\"ignore\"\u001b[0m\u001b[0;34m:\u001b[0m\u001b[0;34m\u001b[0m\u001b[0;34m\u001b[0m\u001b[0m\n\u001b[0;32m-> 5017\u001b[0;31m                 \u001b[0;32mraise\u001b[0m \u001b[0mKeyError\u001b[0m\u001b[0;34m(\u001b[0m\u001b[0;34mf\"{labels[mask]} not found in axis\"\u001b[0m\u001b[0;34m)\u001b[0m\u001b[0;34m\u001b[0m\u001b[0;34m\u001b[0m\u001b[0m\n\u001b[0m\u001b[1;32m   5018\u001b[0m             \u001b[0mindexer\u001b[0m \u001b[0;34m=\u001b[0m \u001b[0mindexer\u001b[0m\u001b[0;34m[\u001b[0m\u001b[0;34m~\u001b[0m\u001b[0mmask\u001b[0m\u001b[0;34m]\u001b[0m\u001b[0;34m\u001b[0m\u001b[0;34m\u001b[0m\u001b[0m\n\u001b[1;32m   5019\u001b[0m         \u001b[0;32mreturn\u001b[0m \u001b[0mself\u001b[0m\u001b[0;34m.\u001b[0m\u001b[0mdelete\u001b[0m\u001b[0;34m(\u001b[0m\u001b[0mindexer\u001b[0m\u001b[0;34m)\u001b[0m\u001b[0;34m\u001b[0m\u001b[0;34m\u001b[0m\u001b[0m\n",
            "\u001b[0;31mKeyError\u001b[0m: \"['Unnamed: 0'] not found in axis\""
          ]
        }
      ]
    },
    {
      "cell_type": "code",
      "metadata": {
        "id": "hse3Fk39xv96",
        "colab_type": "code",
        "outputId": "31106fa0-e8a7-4dab-ccb1-40927aae70b4",
        "colab": {
          "base_uri": "https://localhost:8080/",
          "height": 218
        }
      },
      "source": [
        "df.place_full_name.value_counts()"
      ],
      "execution_count": 59,
      "outputs": [
        {
          "output_type": "execute_result",
          "data": {
            "text/plain": [
              "Mumbai, India             3030\n",
              "New Delhi, India          2842\n",
              "Bengaluru South, India     659\n",
              "India                      591\n",
              "Kolkata, India             541\n",
              "                          ... \n",
              "Nabadwip, India              1\n",
              "Ambur                        1\n",
              "Raybag, India                1\n",
              "Haveli                       1\n",
              "Isnapur, India               1\n",
              "Name: place_full_name, Length: 1994, dtype: int64"
            ]
          },
          "metadata": {
            "tags": []
          },
          "execution_count": 59
        }
      ]
    },
    {
      "cell_type": "code",
      "metadata": {
        "trusted": true,
        "id": "78hv4C82wst3",
        "colab_type": "code",
        "outputId": "633777a2-0981-476c-bfbe-6e4ca65363df",
        "colab": {
          "base_uri": "https://localhost:8080/",
          "height": 218
        }
      },
      "source": [
        "# processing timestamp\n",
        "\n",
        "datetime = df['created_at'].str.split(pat='T')\n",
        "datetime = list(map(lambda x: \" \".join(x),datetime))\n",
        "df['datetime'] = pd.to_datetime(datetime)\n",
        "df.drop('created_at',axis=1,inplace=True)\n",
        "df['datetime']"
      ],
      "execution_count": 60,
      "outputs": [
        {
          "output_type": "execute_result",
          "data": {
            "text/plain": [
              "292      2020-04-03 00:00:17+00:00\n",
              "6704     2020-04-03 00:23:14+00:00\n",
              "7008     2020-04-03 00:24:23+00:00\n",
              "7736     2020-04-03 00:27:14+00:00\n",
              "13351    2020-04-03 00:47:40+00:00\n",
              "                    ...           \n",
              "414315   2020-04-10 22:57:45+00:00\n",
              "423093   2020-04-10 23:36:38+00:00\n",
              "424383   2020-04-10 23:43:12+00:00\n",
              "426584   2020-04-10 23:54:47+00:00\n",
              "426929   2020-04-10 23:56:31+00:00\n",
              "Name: datetime, Length: 23949, dtype: datetime64[ns, UTC]"
            ]
          },
          "metadata": {
            "tags": []
          },
          "execution_count": 60
        }
      ]
    },
    {
      "cell_type": "code",
      "metadata": {
        "trusted": true,
        "id": "aJZqJw0Vwst9",
        "colab_type": "code",
        "colab": {}
      },
      "source": [
        "#cleaning the tweets function\n",
        "\n",
        "#HappyEmoticons\n",
        "emoticons_happy = set([\n",
        "    ':-)', ':)', ';)', ':o)', ':]', ':3', ':c)', ':>', '=]', '8)', '=)', ':}',\n",
        "    ':^)', ':-D', ':D', '8-D', '8D', 'x-D', 'xD', 'X-D', 'XD', '=-D', '=D',\n",
        "    '=-3', '=3', ':-))', \":'-)\", \":')\", ':*', ':^*', '>:P', ':-P', ':P', 'X-P',\n",
        "    'x-p', 'xp', 'XP', ':-p', ':p', '=p', ':-b', ':b', '>:)', '>;)', '>:-)',\n",
        "    '<3'\n",
        "    ])\n",
        "\n",
        "# Sad Emoticons\n",
        "emoticons_sad = set([\n",
        "    ':L', ':-/', '>:/', ':S', '>:[', ':@', ':-(', ':[', ':-||', '=L', ':<',\n",
        "    ':-[', ':-<', '=\\\\', '=/', '>:(', ':(', '>.<', \":'-(\", \":'(\", ':\\\\', ':-c',\n",
        "    ':c', ':{', '>:\\\\', ';('\n",
        "    ])\n",
        "\n",
        "#Emoji patterns\n",
        "emoji_pattern = re.compile(\"[\"\n",
        "         u\"\\U0001F600-\\U0001F64F\"  # emoticons\n",
        "         u\"\\U0001F300-\\U0001F5FF\"  # symbols & pictographs\n",
        "         u\"\\U0001F680-\\U0001F6FF\"  # transport & map symbols\n",
        "         u\"\\U0001F1E0-\\U0001F1FF\"  # flags (iOS)\n",
        "         u\"\\U00002702-\\U000027B0\"\n",
        "         u\"\\U000024C2-\\U0001F251\"\n",
        "         \"]+\", flags=re.UNICODE)\n",
        "\n",
        "\n",
        "#combine sad and happy emoticons\n",
        "emoticons = emoticons_happy.union(emoticons_sad)\n",
        "\n",
        "def clean_tweets(tweet):\n",
        " \n",
        "    stop_words = set(stopwords.words('english'))\n",
        "    word_tokens = word_tokenize(tweet)\n",
        "    #removing mentions\n",
        "    tweet = re.sub(r':', '', tweet)\n",
        "    tweet = re.sub(r'‚Ä¶', '', tweet)\n",
        "#replace consecutive non-ASCII characters with a space\n",
        "    tweet = re.sub(r'[^\\x00-\\x7F]+',' ', tweet)\n",
        "#remove emojis from tweet\n",
        "    tweet = emoji_pattern.sub(r'', tweet)\n",
        "#filter using NLTK library append it to a string\n",
        "    filtered_tweet = [w for w in word_tokens if not w in stop_words]\n",
        "    filtered_tweet = []\n",
        "#looping through conditions\n",
        "    for w in word_tokens:\n",
        "#check tokens against stop words , emoticons and punctuations\n",
        "        if w not in stop_words and w not in emoticons and w not in string.punctuation:\n",
        "            filtered_tweet.append(w)\n",
        "    return ' '.join(filtered_tweet)\n",
        "\n",
        "\n",
        "\n"
      ],
      "execution_count": 0,
      "outputs": []
    },
    {
      "cell_type": "code",
      "metadata": {
        "trusted": true,
        "id": "z3qef1mlwsuI",
        "colab_type": "code",
        "outputId": "a6618247-b212-4a21-c478-45001eadc9ab",
        "colab": {
          "base_uri": "https://localhost:8080/",
          "height": 218
        }
      },
      "source": [
        "#replace tabs and spaces\n",
        "\n",
        "df['text']= df['text'].replace({'\\n':\" \",\"\\t\":\" \"})\n",
        "\n",
        "df['text']"
      ],
      "execution_count": 62,
      "outputs": [
        {
          "output_type": "execute_result",
          "data": {
            "text/plain": [
              "292       3/n\\nAt 1 million mark top 5 countries with mo...\n",
              "6704      Sir Umbrellas Are Required to vegetable vendor...\n",
              "7008      Adding agriculture, mining in the list too.\\n#...\n",
              "7736      #Coronavirus | #Geofencing app will be used to...\n",
              "13351     Fight against Corona virus. Requesting all to ...\n",
              "                                ...                        \n",
              "414315    #CoronavirusOutbreak | #IndiaFightsCorona Let'...\n",
              "423093    Distributed Ration Kits On Friday 10 April 202...\n",
              "424383    Distributed Ration Kits On Friday 10 April, at...\n",
              "426584    Whenever Celebs/ Politicians post a photo of t...\n",
              "426929    Distributed Ration Kits today at Syed Nagar, N...\n",
              "Name: text, Length: 23949, dtype: object"
            ]
          },
          "metadata": {
            "tags": []
          },
          "execution_count": 62
        }
      ]
    },
    {
      "cell_type": "code",
      "metadata": {
        "trusted": true,
        "id": "9p-_60gswsuO",
        "colab_type": "code",
        "outputId": "9c60068e-6324-441d-ae3e-2ee12a8b279d",
        "colab": {
          "base_uri": "https://localhost:8080/",
          "height": 235
        }
      },
      "source": [
        "#get the hastags\n",
        "\n",
        "#using regular expressions\n",
        "hashtags = df['text'].apply(lambda x: re.findall(r'\\B#\\w*[a-zA-Z]+\\w*',x))\n",
        "print(hashtags)\n",
        "print(len(hashtags))\n",
        "df['hashtag'] = hashtags"
      ],
      "execution_count": 63,
      "outputs": [
        {
          "output_type": "stream",
          "text": [
            "292                                  [#CoronavirusPandemic]\n",
            "6704                                         [#Coronavirus]\n",
            "7008                 [#ReliefPackage, #CoronavirusPandemic]\n",
            "7736                            [#Coronavirus, #Geofencing]\n",
            "13351     [#CoronaUpdatesInIndia, #21DaysChallenge, #cor...\n",
            "                                ...                        \n",
            "414315    [#CoronavirusOutbreak, #IndiaFightsCorona, #Co...\n",
            "423093    [#Nampally, #CoronavirusLockdown, #Telangana, ...\n",
            "424383    [#Nampally, #CoronavirusLockdown, #Telangana, ...\n",
            "426584    [#Mask, #WearMask, #FaceCover, #Masks, #Corona...\n",
            "426929    [#Nampally, #CoronavirusLockdown, #Telangana, ...\n",
            "Name: text, Length: 23949, dtype: object\n",
            "23949\n"
          ],
          "name": "stdout"
        }
      ]
    },
    {
      "cell_type": "code",
      "metadata": {
        "id": "n8wPTt6pyQ_0",
        "colab_type": "code",
        "outputId": "d0eefe57-d727-4f8d-9238-07fb28e4dcd0",
        "colab": {
          "base_uri": "https://localhost:8080/",
          "height": 67
        }
      },
      "source": [
        "import nltk\n",
        "nltk.download('stopwords')"
      ],
      "execution_count": 64,
      "outputs": [
        {
          "output_type": "stream",
          "text": [
            "[nltk_data] Downloading package stopwords to /root/nltk_data...\n",
            "[nltk_data]   Package stopwords is already up-to-date!\n"
          ],
          "name": "stdout"
        },
        {
          "output_type": "execute_result",
          "data": {
            "text/plain": [
              "True"
            ]
          },
          "metadata": {
            "tags": []
          },
          "execution_count": 64
        }
      ]
    },
    {
      "cell_type": "code",
      "metadata": {
        "id": "kItc17Jwokxj",
        "colab_type": "code",
        "colab": {
          "base_uri": "https://localhost:8080/",
          "height": 67
        },
        "outputId": "ee6a90f6-2d41-4264-c66b-84127eb298d1"
      },
      "source": [
        "import nltk\n",
        "nltk.download('punkt')"
      ],
      "execution_count": 65,
      "outputs": [
        {
          "output_type": "stream",
          "text": [
            "[nltk_data] Downloading package punkt to /root/nltk_data...\n",
            "[nltk_data]   Package punkt is already up-to-date!\n"
          ],
          "name": "stdout"
        },
        {
          "output_type": "execute_result",
          "data": {
            "text/plain": [
              "True"
            ]
          },
          "metadata": {
            "tags": []
          },
          "execution_count": 65
        }
      ]
    },
    {
      "cell_type": "code",
      "metadata": {
        "id": "OkxzHe4-Oplb",
        "colab_type": "code",
        "colab": {}
      },
      "source": [
        "import dask.dataframe as dsk\n",
        "import multiprocessing as mp\n",
        "from dask.multiprocessing import get\n",
        "\n",
        "ddf = dsk.from_pandas(df,npartitions=4*mp.cpu_count())"
      ],
      "execution_count": 0,
      "outputs": []
    },
    {
      "cell_type": "code",
      "metadata": {
        "id": "dMpNeZWHP6AL",
        "colab_type": "code",
        "colab": {
          "base_uri": "https://localhost:8080/",
          "height": 118
        },
        "outputId": "ec10a90f-0784-485e-9e6b-7501affa81d8"
      },
      "source": [
        "df['text1'] = df['text'].apply(clean_tweets) #preprocessing using user defined functions\n",
        "#df['text'] = df['text'].apply(p.clean)\n",
        "df['text1']= clean_text\n",
        "df.columns"
      ],
      "execution_count": 81,
      "outputs": [
        {
          "output_type": "execute_result",
          "data": {
            "text/plain": [
              "Index(['status_id', 'user_id', 'screen_name', 'text', 'source', 'is_quote',\n",
              "       'is_retweet', 'favourites_count', 'retweet_count', 'country_code',\n",
              "       'place_full_name', 'place_type', 'followers_count', 'friends_count',\n",
              "       'account_created_at', 'verified', 'lang', 'datetime', 'hashtag',\n",
              "       'text1'],\n",
              "      dtype='object')"
            ]
          },
          "metadata": {
            "tags": []
          },
          "execution_count": 81
        }
      ]
    },
    {
      "cell_type": "code",
      "metadata": {
        "id": "xYLWCiuzQo4O",
        "colab_type": "code",
        "colab": {}
      },
      "source": [
        "df['text'] = df['text1']\n",
        "df = df.drop('text1', axis = 1)"
      ],
      "execution_count": 0,
      "outputs": []
    },
    {
      "cell_type": "code",
      "metadata": {
        "id": "_kq88JBaQytM",
        "colab_type": "code",
        "colab": {
          "base_uri": "https://localhost:8080/",
          "height": 118
        },
        "outputId": "a12aec55-87f2-4ef7-e496-6aae22cd0479"
      },
      "source": [
        "df.text.head()"
      ],
      "execution_count": 83,
      "outputs": [
        {
          "output_type": "execute_result",
          "data": {
            "text/plain": [
              "279    When nation fighting grim battle amidst medica...\n",
              "292    3/n At 1 million mark top 5 countries recovere...\n",
              "331    narendramodi ji Is Harsh Decision ke lie We fo...\n",
              "342    For resorted bursting crackers flying Chinese ...\n",
              "349    May spirit season new year form invisible host...\n",
              "Name: text, dtype: object"
            ]
          },
          "metadata": {
            "tags": []
          },
          "execution_count": 83
        }
      ]
    },
    {
      "cell_type": "code",
      "metadata": {
        "trusted": true,
        "id": "hAgSPvufwsuf",
        "colab_type": "code",
        "colab": {}
      },
      "source": [
        " #getting sentiment scores and polarity\n",
        "from textblob import TextBlob\n",
        "\n",
        "def get_sentiment(text):\n",
        "    blob = TextBlob(text)\n",
        "    return [blob.sentiment.polarity, blob.sentiment.subjectivity]\n",
        "\n",
        "\n"
      ],
      "execution_count": 0,
      "outputs": []
    },
    {
      "cell_type": "code",
      "metadata": {
        "trusted": true,
        "id": "QHjVwIdDwsun",
        "colab_type": "code",
        "colab": {
          "base_uri": "https://localhost:8080/",
          "height": 518
        },
        "outputId": "bb1690bc-9393-4f07-8d94-2a98666e9e15"
      },
      "source": [
        "\n",
        "df.head()"
      ],
      "execution_count": 85,
      "outputs": [
        {
          "output_type": "execute_result",
          "data": {
            "text/html": [
              "<div>\n",
              "<style scoped>\n",
              "    .dataframe tbody tr th:only-of-type {\n",
              "        vertical-align: middle;\n",
              "    }\n",
              "\n",
              "    .dataframe tbody tr th {\n",
              "        vertical-align: top;\n",
              "    }\n",
              "\n",
              "    .dataframe thead th {\n",
              "        text-align: right;\n",
              "    }\n",
              "</style>\n",
              "<table border=\"1\" class=\"dataframe\">\n",
              "  <thead>\n",
              "    <tr style=\"text-align: right;\">\n",
              "      <th></th>\n",
              "      <th>status_id</th>\n",
              "      <th>user_id</th>\n",
              "      <th>screen_name</th>\n",
              "      <th>text</th>\n",
              "      <th>source</th>\n",
              "      <th>is_quote</th>\n",
              "      <th>is_retweet</th>\n",
              "      <th>favourites_count</th>\n",
              "      <th>retweet_count</th>\n",
              "      <th>country_code</th>\n",
              "      <th>place_full_name</th>\n",
              "      <th>place_type</th>\n",
              "      <th>followers_count</th>\n",
              "      <th>friends_count</th>\n",
              "      <th>account_created_at</th>\n",
              "      <th>verified</th>\n",
              "      <th>lang</th>\n",
              "      <th>datetime</th>\n",
              "      <th>hashtag</th>\n",
              "    </tr>\n",
              "  </thead>\n",
              "  <tbody>\n",
              "    <tr>\n",
              "      <th>279</th>\n",
              "      <td>1245501262914674688</td>\n",
              "      <td>113672777</td>\n",
              "      <td>KingKatriar</td>\n",
              "      <td>When nation fighting grim battle amidst medica...</td>\n",
              "      <td>Twitter for Android</td>\n",
              "      <td>True</td>\n",
              "      <td>False</td>\n",
              "      <td>7991</td>\n",
              "      <td>4</td>\n",
              "      <td>IN</td>\n",
              "      <td>Mumbai, India</td>\n",
              "      <td>city</td>\n",
              "      <td>5360</td>\n",
              "      <td>3340</td>\n",
              "      <td>2010-02-12T16:34:18Z</td>\n",
              "      <td>False</td>\n",
              "      <td>en</td>\n",
              "      <td>2020-04-02 00:00:16+00:00</td>\n",
              "      <td>[#coronavirus]</td>\n",
              "    </tr>\n",
              "    <tr>\n",
              "      <th>292</th>\n",
              "      <td>1245863655586979840</td>\n",
              "      <td>857681810830094338</td>\n",
              "      <td>mishralokk</td>\n",
              "      <td>3/n At 1 million mark top 5 countries recovere...</td>\n",
              "      <td>Twitter for Android</td>\n",
              "      <td>False</td>\n",
              "      <td>False</td>\n",
              "      <td>1199</td>\n",
              "      <td>0</td>\n",
              "      <td>IN</td>\n",
              "      <td>Gurgaon, India</td>\n",
              "      <td>city</td>\n",
              "      <td>2862</td>\n",
              "      <td>235</td>\n",
              "      <td>2017-04-27T19:44:13Z</td>\n",
              "      <td>False</td>\n",
              "      <td>en</td>\n",
              "      <td>2020-04-03 00:00:17+00:00</td>\n",
              "      <td>[#CoronavirusPandemic]</td>\n",
              "    </tr>\n",
              "    <tr>\n",
              "      <th>331</th>\n",
              "      <td>1244414125326741504</td>\n",
              "      <td>464935939</td>\n",
              "      <td>asliranjit</td>\n",
              "      <td>narendramodi ji Is Harsh Decision ke lie We fo...</td>\n",
              "      <td>Twitter for Android</td>\n",
              "      <td>False</td>\n",
              "      <td>False</td>\n",
              "      <td>351</td>\n",
              "      <td>0</td>\n",
              "      <td>IN</td>\n",
              "      <td>New Delhi, India</td>\n",
              "      <td>city</td>\n",
              "      <td>199</td>\n",
              "      <td>37</td>\n",
              "      <td>2012-01-15T19:47:31Z</td>\n",
              "      <td>False</td>\n",
              "      <td>en</td>\n",
              "      <td>2020-03-30 00:00:22+00:00</td>\n",
              "      <td>[#Covid_19]</td>\n",
              "    </tr>\n",
              "    <tr>\n",
              "      <th>342</th>\n",
              "      <td>1246950868085325825</td>\n",
              "      <td>102625402</td>\n",
              "      <td>srijanpalsingh</td>\n",
              "      <td>For resorted bursting crackers flying Chinese ...</td>\n",
              "      <td>Twitter for Android</td>\n",
              "      <td>False</td>\n",
              "      <td>False</td>\n",
              "      <td>9518</td>\n",
              "      <td>15</td>\n",
              "      <td>IN</td>\n",
              "      <td>New Delhi, India</td>\n",
              "      <td>city</td>\n",
              "      <td>31678</td>\n",
              "      <td>2085</td>\n",
              "      <td>2010-01-07T09:11:12Z</td>\n",
              "      <td>True</td>\n",
              "      <td>en</td>\n",
              "      <td>2020-04-06 00:00:28+00:00</td>\n",
              "      <td>[#Covid_19]</td>\n",
              "    </tr>\n",
              "    <tr>\n",
              "      <th>349</th>\n",
              "      <td>1249850149498568704</td>\n",
              "      <td>1078338149833555969</td>\n",
              "      <td>dhruvvjyoti</td>\n",
              "      <td>May spirit season new year form invisible host...</td>\n",
              "      <td>Twitter for Android</td>\n",
              "      <td>False</td>\n",
              "      <td>False</td>\n",
              "      <td>30</td>\n",
              "      <td>0</td>\n",
              "      <td>IN</td>\n",
              "      <td>Dibrugarh, India</td>\n",
              "      <td>city</td>\n",
              "      <td>5</td>\n",
              "      <td>17</td>\n",
              "      <td>2018-12-27T17:13:44Z</td>\n",
              "      <td>False</td>\n",
              "      <td>en</td>\n",
              "      <td>2020-04-14 00:01:11+00:00</td>\n",
              "      <td>[#SubhoNoboBorsho, #PoilaBaisakh, #StayHomeSta...</td>\n",
              "    </tr>\n",
              "  </tbody>\n",
              "</table>\n",
              "</div>"
            ],
            "text/plain": [
              "               status_id  ...                                            hashtag\n",
              "279  1245501262914674688  ...                                     [#coronavirus]\n",
              "292  1245863655586979840  ...                             [#CoronavirusPandemic]\n",
              "331  1244414125326741504  ...                                        [#Covid_19]\n",
              "342  1246950868085325825  ...                                        [#Covid_19]\n",
              "349  1249850149498568704  ...  [#SubhoNoboBorsho, #PoilaBaisakh, #StayHomeSta...\n",
              "\n",
              "[5 rows x 19 columns]"
            ]
          },
          "metadata": {
            "tags": []
          },
          "execution_count": 85
        }
      ]
    },
    {
      "cell_type": "code",
      "metadata": {
        "trusted": true,
        "id": "1nkI41Tewsut",
        "colab_type": "code",
        "colab": {
          "base_uri": "https://localhost:8080/",
          "height": 518
        },
        "outputId": "802ead96-2e6a-4548-8cf7-c05c47101135"
      },
      "source": [
        "df = pd.DataFrame(df)\n",
        "polarity,subjectivity = [], []\n",
        "for text in df.text:\n",
        "    pol , sub = get_sentiment(text)\n",
        "    polarity.append(pol)\n",
        "    subjectivity.append(sub)\n",
        "    \n",
        "df['polarity'] = polarity\n",
        "df['subjectivity'] = subjectivity\n",
        "df.head()"
      ],
      "execution_count": 92,
      "outputs": [
        {
          "output_type": "execute_result",
          "data": {
            "text/html": [
              "<div>\n",
              "<style scoped>\n",
              "    .dataframe tbody tr th:only-of-type {\n",
              "        vertical-align: middle;\n",
              "    }\n",
              "\n",
              "    .dataframe tbody tr th {\n",
              "        vertical-align: top;\n",
              "    }\n",
              "\n",
              "    .dataframe thead th {\n",
              "        text-align: right;\n",
              "    }\n",
              "</style>\n",
              "<table border=\"1\" class=\"dataframe\">\n",
              "  <thead>\n",
              "    <tr style=\"text-align: right;\">\n",
              "      <th></th>\n",
              "      <th>status_id</th>\n",
              "      <th>user_id</th>\n",
              "      <th>screen_name</th>\n",
              "      <th>text</th>\n",
              "      <th>source</th>\n",
              "      <th>is_quote</th>\n",
              "      <th>is_retweet</th>\n",
              "      <th>favourites_count</th>\n",
              "      <th>retweet_count</th>\n",
              "      <th>country_code</th>\n",
              "      <th>place_full_name</th>\n",
              "      <th>place_type</th>\n",
              "      <th>followers_count</th>\n",
              "      <th>friends_count</th>\n",
              "      <th>account_created_at</th>\n",
              "      <th>verified</th>\n",
              "      <th>lang</th>\n",
              "      <th>datetime</th>\n",
              "      <th>hashtag</th>\n",
              "      <th>polarity</th>\n",
              "      <th>subjectivity</th>\n",
              "    </tr>\n",
              "  </thead>\n",
              "  <tbody>\n",
              "    <tr>\n",
              "      <th>279</th>\n",
              "      <td>1245501262914674688</td>\n",
              "      <td>113672777</td>\n",
              "      <td>KingKatriar</td>\n",
              "      <td>When nation fighting grim battle amidst medica...</td>\n",
              "      <td>Twitter for Android</td>\n",
              "      <td>True</td>\n",
              "      <td>False</td>\n",
              "      <td>7991</td>\n",
              "      <td>4</td>\n",
              "      <td>IN</td>\n",
              "      <td>Mumbai, India</td>\n",
              "      <td>city</td>\n",
              "      <td>5360</td>\n",
              "      <td>3340</td>\n",
              "      <td>2010-02-12T16:34:18Z</td>\n",
              "      <td>False</td>\n",
              "      <td>en</td>\n",
              "      <td>2020-04-02 00:00:16+00:00</td>\n",
              "      <td>[#coronavirus]</td>\n",
              "      <td>-0.666667</td>\n",
              "      <td>0.666667</td>\n",
              "    </tr>\n",
              "    <tr>\n",
              "      <th>292</th>\n",
              "      <td>1245863655586979840</td>\n",
              "      <td>857681810830094338</td>\n",
              "      <td>mishralokk</td>\n",
              "      <td>3/n At 1 million mark top 5 countries recovere...</td>\n",
              "      <td>Twitter for Android</td>\n",
              "      <td>False</td>\n",
              "      <td>False</td>\n",
              "      <td>1199</td>\n",
              "      <td>0</td>\n",
              "      <td>IN</td>\n",
              "      <td>Gurgaon, India</td>\n",
              "      <td>city</td>\n",
              "      <td>2862</td>\n",
              "      <td>235</td>\n",
              "      <td>2017-04-27T19:44:13Z</td>\n",
              "      <td>False</td>\n",
              "      <td>en</td>\n",
              "      <td>2020-04-03 00:00:17+00:00</td>\n",
              "      <td>[#CoronavirusPandemic]</td>\n",
              "      <td>0.500000</td>\n",
              "      <td>0.500000</td>\n",
              "    </tr>\n",
              "    <tr>\n",
              "      <th>331</th>\n",
              "      <td>1244414125326741504</td>\n",
              "      <td>464935939</td>\n",
              "      <td>asliranjit</td>\n",
              "      <td>narendramodi ji Is Harsh Decision ke lie We fo...</td>\n",
              "      <td>Twitter for Android</td>\n",
              "      <td>False</td>\n",
              "      <td>False</td>\n",
              "      <td>351</td>\n",
              "      <td>0</td>\n",
              "      <td>IN</td>\n",
              "      <td>New Delhi, India</td>\n",
              "      <td>city</td>\n",
              "      <td>199</td>\n",
              "      <td>37</td>\n",
              "      <td>2012-01-15T19:47:31Z</td>\n",
              "      <td>False</td>\n",
              "      <td>en</td>\n",
              "      <td>2020-03-30 00:00:22+00:00</td>\n",
              "      <td>[#Covid_19]</td>\n",
              "      <td>-0.100000</td>\n",
              "      <td>0.500000</td>\n",
              "    </tr>\n",
              "    <tr>\n",
              "      <th>342</th>\n",
              "      <td>1246950868085325825</td>\n",
              "      <td>102625402</td>\n",
              "      <td>srijanpalsingh</td>\n",
              "      <td>For resorted bursting crackers flying Chinese ...</td>\n",
              "      <td>Twitter for Android</td>\n",
              "      <td>False</td>\n",
              "      <td>False</td>\n",
              "      <td>9518</td>\n",
              "      <td>15</td>\n",
              "      <td>IN</td>\n",
              "      <td>New Delhi, India</td>\n",
              "      <td>city</td>\n",
              "      <td>31678</td>\n",
              "      <td>2085</td>\n",
              "      <td>2010-01-07T09:11:12Z</td>\n",
              "      <td>True</td>\n",
              "      <td>en</td>\n",
              "      <td>2020-04-06 00:00:28+00:00</td>\n",
              "      <td>[#Covid_19]</td>\n",
              "      <td>-0.208333</td>\n",
              "      <td>0.225000</td>\n",
              "    </tr>\n",
              "    <tr>\n",
              "      <th>349</th>\n",
              "      <td>1249850149498568704</td>\n",
              "      <td>1078338149833555969</td>\n",
              "      <td>dhruvvjyoti</td>\n",
              "      <td>May spirit season new year form invisible host...</td>\n",
              "      <td>Twitter for Android</td>\n",
              "      <td>False</td>\n",
              "      <td>False</td>\n",
              "      <td>30</td>\n",
              "      <td>0</td>\n",
              "      <td>IN</td>\n",
              "      <td>Dibrugarh, India</td>\n",
              "      <td>city</td>\n",
              "      <td>5</td>\n",
              "      <td>17</td>\n",
              "      <td>2018-12-27T17:13:44Z</td>\n",
              "      <td>False</td>\n",
              "      <td>en</td>\n",
              "      <td>2020-04-14 00:01:11+00:00</td>\n",
              "      <td>[#SubhoNoboBorsho, #PoilaBaisakh, #StayHomeSta...</td>\n",
              "      <td>0.136364</td>\n",
              "      <td>0.454545</td>\n",
              "    </tr>\n",
              "  </tbody>\n",
              "</table>\n",
              "</div>"
            ],
            "text/plain": [
              "               status_id              user_id  ...  polarity subjectivity\n",
              "279  1245501262914674688            113672777  ... -0.666667     0.666667\n",
              "292  1245863655586979840   857681810830094338  ...  0.500000     0.500000\n",
              "331  1244414125326741504            464935939  ... -0.100000     0.500000\n",
              "342  1246950868085325825            102625402  ... -0.208333     0.225000\n",
              "349  1249850149498568704  1078338149833555969  ...  0.136364     0.454545\n",
              "\n",
              "[5 rows x 21 columns]"
            ]
          },
          "metadata": {
            "tags": []
          },
          "execution_count": 92
        }
      ]
    },
    {
      "cell_type": "code",
      "metadata": {
        "trusted": true,
        "id": "ftfK6qo0wsu2",
        "colab_type": "code",
        "colab": {
          "base_uri": "https://localhost:8080/",
          "height": 34
        },
        "outputId": "aab100f3-cff4-4563-d55b-0faabec6a78b"
      },
      "source": [
        "#get the unique hastags\n",
        "\n",
        "unique_hashtag = set([hash for hashes in df.hashtag for hash in hashes])\n",
        "print(len(unique_hashtag))"
      ],
      "execution_count": 94,
      "outputs": [
        {
          "output_type": "stream",
          "text": [
            "17781\n"
          ],
          "name": "stdout"
        }
      ]
    },
    {
      "cell_type": "code",
      "metadata": {
        "trusted": true,
        "id": "ipoQRUUiwsu8",
        "colab_type": "code",
        "colab": {}
      },
      "source": [
        "df.to_csv('/content/processed.csv')"
      ],
      "execution_count": 0,
      "outputs": []
    },
    {
      "cell_type": "code",
      "metadata": {
        "trusted": true,
        "id": "2LT2WCREwsvD",
        "colab_type": "code",
        "colab": {}
      },
      "source": [
        ""
      ],
      "execution_count": 0,
      "outputs": []
    }
  ]
}